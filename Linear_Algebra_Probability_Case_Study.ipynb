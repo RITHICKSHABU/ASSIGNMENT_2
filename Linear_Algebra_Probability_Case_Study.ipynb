{
 "cells": [
  {
   "cell_type": "code",
   "execution_count": null,
   "metadata": {
    "id": "Df4jcOSIl6bw"
   },
   "outputs": [],
   "source": [
    "import math\n",
    "import numpy as np"
   ]
  },
  {
   "cell_type": "markdown",
   "metadata": {
    "id": "7fnopGEwkdOr"
   },
   "source": [
    "# Question 1: Compute the Euclidean distance between vector $V_1$ and $V_2$. Store the answer in variable d. Show screenshot\\\\photograph of your calculation\n",
    "\n",
    "$V_1 = \\{2, -3, 5\\}$ and $V_2 = \\{6, 2, 1\\}$"
   ]
  },
  {
   "cell_type": "code",
   "execution_count": 1,
   "metadata": {
    "id": "veR7KvHgkyha"
   },
   "outputs": [
    {
     "name": "stdout",
     "output_type": "stream",
     "text": [
      "7.54983443527075\n"
     ]
    }
   ],
   "source": [
    "import math\n",
    "x1, x2, y1, y2, z1, z2 = 2, 6, -3, 2, 5, 1\n",
    "d = math.sqrt((x2-x1)**2 + (y2-y1)**2 + (z2-z1)**2)\n",
    "print(d)"
   ]
  },
  {
   "cell_type": "code",
   "execution_count": 2,
   "metadata": {
    "id": "eBOZwZn_mCiX"
   },
   "outputs": [
    {
     "data": {
      "text/plain": [
       "True"
      ]
     },
     "execution_count": 2,
     "metadata": {},
     "output_type": "execute_result"
    }
   ],
   "source": [
    "def grader1(d, tol=1e-3):\n",
    "    return math.isclose(d, math.sqrt(57), rel_tol=tol)\n",
    "grader1(d)"
   ]
  },
  {
   "cell_type": "markdown",
   "metadata": {
    "id": "Y9Wq_TR4mgQs"
   },
   "source": [
    "# Question 2: Find a Unit vector in the direction of $x = \\{6, -8, 0\\}$ and store it in variable 'x' as list. Show screenshot\\\\photograph of your calculation"
   ]
  },
  {
   "cell_type": "code",
   "execution_count": null,
   "metadata": {},
   "outputs": [],
   "source": []
  },
  {
   "cell_type": "code",
   "execution_count": 3,
   "metadata": {
    "id": "fFES_YGmmGcs"
   },
   "outputs": [
    {
     "name": "stdout",
     "output_type": "stream",
     "text": [
      "THE MAGNITUDE IS: 10.0\n",
      "THE UNIT VECTOR IS: [0.6, -0.8, 0.0]\n"
     ]
    }
   ],
   "source": [
    "import math\n",
    "x1, y1, z1 = 6, -8, 0\n",
    "p  =  math.sqrt(x1**2 + y1**2 + z1**2)\n",
    "print('THE MAGNITUDE IS:', p)\n",
    "x = [x1/p, y1/p, z1/p]\n",
    "print('THE UNIT VECTOR IS:', x)"
   ]
  },
  {
   "cell_type": "code",
   "execution_count": 4,
   "metadata": {
    "id": "ikF9Ol64nSUX"
   },
   "outputs": [
    {
     "data": {
      "text/plain": [
       "True"
      ]
     },
     "execution_count": 4,
     "metadata": {},
     "output_type": "execute_result"
    }
   ],
   "source": [
    "def grader2(v, tol=1e-3):\n",
    "    cuv = (0.6, -0.8, 0)\n",
    "    return all(math.isclose(v[i], cuv[i], rel_tol=tol) for i in range(3))\n",
    "grader2(x)"
   ]
  },
  {
   "cell_type": "markdown",
   "metadata": {
    "id": "jolj2eTOXvER"
   },
   "source": [
    "![screenshot2](screenshot2.png)"
   ]
  },
  {
   "cell_type": "markdown",
   "metadata": {
    "id": "v4-gOsagvQ3_"
   },
   "source": [
    "# Question 3: Find the determinant of the matrix and store the value in variable a A = \\begin{bmatrix} 3 & 4 & 2 \\\\ 2 & 1 & 5 \\\\ 6 & 0 & -1 \\end{bmatrix}\n",
    "#Show screenshot\\\\photograph of your calculation\n"
   ]
  },
  {
   "cell_type": "code",
   "execution_count": 5,
   "metadata": {
    "id": "M2QDrYDBFQmu"
   },
   "outputs": [
    {
     "name": "stdout",
     "output_type": "stream",
     "text": [
      "113\n"
     ]
    }
   ],
   "source": [
    "import numpy as np\n",
    "a = ([[3, 4, 2],\n",
    "           [2, 1, 5],\n",
    "           [6, 0, -1]])\n",
    "#a = np.linalg.det(matrix)\n",
    "A = (a[0][0] * (a[1][1] * a[2][2] - a[2][1] * a[1][2])\n",
    "    -a[1][0] * (a[0][1] * a[2][2] - a[2][1] * a[0][2])\n",
    "    +a[2][0] * (a[0][1] * a[1][2] - a[1][1] * a[0][2]))\n",
    "print(A)\n"
   ]
  },
  {
   "cell_type": "code",
   "execution_count": 6,
   "metadata": {
    "id": "oTwztEHlnaqE"
   },
   "outputs": [
    {
     "data": {
      "text/plain": [
       "True"
      ]
     },
     "execution_count": 6,
     "metadata": {},
     "output_type": "execute_result"
    }
   ],
   "source": [
    "def grader3(ans, tol=1e-3):\n",
    "    correct_det = 113\n",
    "    return math.isclose(ans, correct_det, rel_tol=tol)\n",
    "grader3(A)"
   ]
  },
  {
   "cell_type": "markdown",
   "metadata": {
    "id": "0kYkLu-bXxh8"
   },
   "source": [
    "![screenshot3](screenshot3.png)"
   ]
  },
  {
   "cell_type": "markdown",
   "metadata": {
    "id": "ZbccmZ6EPYkL"
   },
   "source": [
    "# Question 4: Compute the inverse ($B^{-1}$) of matrix B and store it in variable b\n",
    "\n",
    "B =  \\begin{bmatrix} 2 & -1 \\\\ 1 & 3 \\end{bmatrix}\n",
    "\n",
    "# Show screenshot\\\\photograph of your calculation"
   ]
  },
  {
   "cell_type": "code",
   "execution_count": null,
   "metadata": {
    "id": "RyoJ5KxSQMiW"
   },
   "outputs": [],
   "source": [
    "\n"
   ]
  },
  {
   "cell_type": "code",
   "execution_count": 8,
   "metadata": {
    "id": "n7KcXDCdnooX"
   },
   "outputs": [
    {
     "data": {
      "text/plain": [
       "False"
      ]
     },
     "execution_count": 8,
     "metadata": {},
     "output_type": "execute_result"
    }
   ],
   "source": [
    "def grader4(B_inv, tol=1e-3):\n",
    "    correct_B_inv = np.array([[3/7, 1/7], [-1/7, 2/7]])\n",
    "    return np.allclose(B_inv, correct_B_inv, rtol=tol)\n",
    "grader4(row)"
   ]
  },
  {
   "cell_type": "markdown",
   "metadata": {
    "id": "tXGNwdewXzsD"
   },
   "source": [
    "[screenshot4](file:///C:/Users/Admin/Desktop/ICT_PRACTICE/ASSIGNMENT_2/Q_4.pdf)"
   ]
  },
  {
   "cell_type": "markdown",
   "metadata": {
    "id": "UnROY1pNQfDx"
   },
   "source": [
    " Question 5: Compute the dot product value for V_1 = \\{1, 2, -1\\} and V_2 = \\{3, -6, 2\\}$ and store it in variable dot_prod. Show screenshot\\\\photograph of your calculation"
   ]
  },
  {
   "cell_type": "code",
   "execution_count": null,
   "metadata": {
    "id": "ayd1TbdHQ3Ay"
   },
   "outputs": [],
   "source": [
    "import numpy as np\n",
    "mat_1 = [1, 2, -1]\n",
    "mat_2 = [3, -6, 2]\n",
    "dot_prod = np.dot(mat_1, mat_2)\n",
    "print(dot_prod)"
   ]
  },
  {
   "cell_type": "code",
   "execution_count": null,
   "metadata": {
    "id": "5AEYqqGAQSAm"
   },
   "outputs": [],
   "source": [
    "def grader5(dot_prod, tol=1e-3):\n",
    "  is_correct = math.isclose(dot_prod, -11, rel_tol=tol)\n",
    "  return is_correct\n",
    "grader5(dot_prod)"
   ]
  },
  {
   "cell_type": "markdown",
   "metadata": {
    "id": "tdToGhvLX1fI"
   },
   "source": [
    "![screenshot5]()"
   ]
  },
  {
   "cell_type": "markdown",
   "metadata": {
    "id": "w68LFmXbTDzM"
   },
   "source": [
    "# Question 6: Compute the angle between $V_1$ = \\{1, 2\\} and $V_2 = \\{3, 4\\}$ using the dot product formula and store it in variable theta. Show screenshot\\\\photograph of your calculation"
   ]
  },
  {
   "cell_type": "code",
   "execution_count": null,
   "metadata": {
    "id": "vfv9e19BRXsP"
   },
   "outputs": [],
   "source": []
  },
  {
   "cell_type": "code",
   "execution_count": null,
   "metadata": {
    "id": "ILKYZd1ZTagd"
   },
   "outputs": [],
   "source": [
    "def grader6(theta, tol=1e-3):\n",
    "    correct_theta = math.acos(11 / (math.sqrt(5) * 5))\n",
    "    return math.isclose(theta, correct_theta, rel_tol=tol)\n",
    "\n",
    "grader6(angle)"
   ]
  },
  {
   "cell_type": "markdown",
   "metadata": {
    "id": "BlmqWqrrX4do"
   },
   "source": [
    "![screenshot6](screenshot6.png)"
   ]
  },
  {
   "cell_type": "markdown",
   "metadata": {
    "id": "YCcewJIKX47X"
   },
   "source": [
    "# Question 7: Find the eigenvalues of C = \\begin{bmatrix} 2 & 1 \\\\ 1 & 2 \\end{bmatrix} and store it in variables lamda1 and lambda2.\n",
    "# Show screenshot\\\\photograph of your calculation"
   ]
  },
  {
   "cell_type": "code",
   "execution_count": null,
   "metadata": {
    "id": "gJeXcQiCTsJc"
   },
   "outputs": [],
   "source": [
    "lambda1= #write your answer\n",
    "lambda2 = #write your answer"
   ]
  },
  {
   "cell_type": "code",
   "execution_count": null,
   "metadata": {
    "id": "ScOmwG4OYSvf"
   },
   "outputs": [],
   "source": [
    "def grader7(lamda1, lamda2):\n",
    "    c1 = 3\n",
    "    c2 = 1\n",
    "    if (lamda1 == c1 and lamda2 == c2) or \\\n",
    "       (lamda1 == c2 and lamda2 == c1):\n",
    "        return True\n",
    "    else:\n",
    "        return False\n",
    "grader7(lambda1, lambda2)"
   ]
  },
  {
   "cell_type": "markdown",
   "metadata": {
    "id": "WXXTmPVVX-5y"
   },
   "source": [
    "![screenshot7](screenshot7.png)"
   ]
  },
  {
   "cell_type": "markdown",
   "metadata": {
    "id": "6c4Q4jpudCiy"
   },
   "source": [
    "# Question 8: A box contains 4 red, 3 blue, and 2 green balls. What is the probability of drawing a red or blue ball? store the result in variable p. Show screenshot\\\\photograph of your calculation"
   ]
  },
  {
   "cell_type": "code",
   "execution_count": null,
   "metadata": {
    "id": "5z_09z0eZOSf"
   },
   "outputs": [],
   "source": [
    "p = #write your answer"
   ]
  },
  {
   "cell_type": "code",
   "execution_count": null,
   "metadata": {
    "id": "pn3CbctGdLmy"
   },
   "outputs": [],
   "source": [
    "def grader8(prob):\n",
    "    if abs(prob - 0.7777) < 1e-6:\n",
    "        return True\n",
    "    else:\n",
    "        return False\n",
    "grader8(p)"
   ]
  },
  {
   "cell_type": "markdown",
   "metadata": {
    "id": "notlLMv-YBZQ"
   },
   "source": [
    "![screenshot8](screenshot8.png)"
   ]
  },
  {
   "cell_type": "markdown",
   "metadata": {
    "id": "R9XWn-ahDF_z"
   },
   "source": [
    "# Question 9: A test for a disease is 95% accurate, and 1% of people have the disease. If a person tests positive, what is the probability that they actually have the disease? Store the answer in variable p. Show screenshot\\\\photograph of your calculation"
   ]
  },
  {
   "cell_type": "code",
   "execution_count": null,
   "metadata": {
    "id": "efuMnDKydvrJ"
   },
   "outputs": [],
   "source": [
    "p = #write your answer"
   ]
  },
  {
   "cell_type": "code",
   "execution_count": null,
   "metadata": {
    "id": "1EB4TqplDNnt"
   },
   "outputs": [],
   "source": [
    "def grader9(p):\n",
    "    if p==0.161:\n",
    "        return True\n",
    "    else:\n",
    "        return False\n",
    "grader9(p)"
   ]
  },
  {
   "cell_type": "markdown",
   "metadata": {
    "id": "V_WmZgkOYDwB"
   },
   "source": [
    "![screenshot9](screenshot9.png)"
   ]
  },
  {
   "cell_type": "markdown",
   "metadata": {
    "id": "cLj3KYwdElkw"
   },
   "source": [
    "# Question 10: In a class, 70% of students pass math, and 50% pass physics. If 30% pass both, what is the probability that a student who passes math also passes physics?. Store your answer in variable p. Show screenshot\\\\photograph of your calculation"
   ]
  },
  {
   "cell_type": "code",
   "execution_count": null,
   "metadata": {
    "id": "Ow9DvnGmDwzt"
   },
   "outputs": [],
   "source": [
    "p = #write your answer"
   ]
  },
  {
   "cell_type": "code",
   "execution_count": null,
   "metadata": {
    "id": "ZoRAlNOCEuXF"
   },
   "outputs": [],
   "source": [
    "def grader10(p):\n",
    "    if p==0.4286:\n",
    "        return True\n",
    "    else:\n",
    "        return False\n",
    "grader10(p)"
   ]
  },
  {
   "cell_type": "markdown",
   "metadata": {
    "id": "ToM4ggNLYFf0"
   },
   "source": [
    "![screenshot10](screenshot10.png)"
   ]
  },
  {
   "cell_type": "markdown",
   "metadata": {
    "id": "dDD8opa7FjLF"
   },
   "source": [
    "# Question 11: Compute the entropy of a biased coin with P(Heads) = 0.8 and P(Tails) = 0.2. Store your answer in variable e given below. Comment your oberservation about the uncertainity about the situation. Show screenshot\\\\photograph of your calculation"
   ]
  },
  {
   "cell_type": "code",
   "execution_count": null,
   "metadata": {
    "id": "TlIIgfqGFJ8T"
   },
   "outputs": [],
   "source": [
    "e = #write your answer"
   ]
  },
  {
   "cell_type": "code",
   "execution_count": null,
   "metadata": {
    "id": "wvL0G5PPFy47"
   },
   "outputs": [],
   "source": [
    "def grader11(e):\n",
    "    if e==0.72193:\n",
    "        return True\n",
    "    else:\n",
    "        return False\n",
    "grader11(e)"
   ]
  },
  {
   "cell_type": "markdown",
   "metadata": {
    "id": "hR4mNtwzYHRL"
   },
   "source": [
    "![screenshot11](screenshot11.png)"
   ]
  },
  {
   "cell_type": "markdown",
   "metadata": {
    "id": "StIn8118H4wL"
   },
   "source": [
    "# Question 12: Given the random variable $X$ that takes the values $\\{1,2,3,4\\}$ with probabilities $\\{0.1,0.2,0.3,0.4\\}$, compute the expected value of X. Store the answer in variable expected_value. Show screenshot\\\\photograph of your calculation"
   ]
  },
  {
   "cell_type": "code",
   "execution_count": null,
   "metadata": {
    "id": "djYOmUmUIiDE"
   },
   "outputs": [],
   "source": [
    "expected_value = #write your answer"
   ]
  },
  {
   "cell_type": "code",
   "execution_count": null,
   "metadata": {
    "id": "XRNVVGQJIk_o"
   },
   "outputs": [],
   "source": [
    "def grader12(expected_value, tol=1e-3):\n",
    "    return math.isclose(expected_value, 3.0, rel_tol=tol)\n",
    "\n",
    "grader12(expected_value)"
   ]
  },
  {
   "cell_type": "markdown",
   "metadata": {
    "id": "n5mVT7eGYIxv"
   },
   "source": [
    "![screenshot12](screenshot12.png)"
   ]
  },
  {
   "cell_type": "markdown",
   "metadata": {
    "id": "S2iNPi8OJd1q"
   },
   "source": [
    "# Question 13: Two dice are rolled. Find the probability that their sum is greater than 8. Store the answer in variable prob. Show screenshot\\\\photograph of your calculation"
   ]
  },
  {
   "cell_type": "code",
   "execution_count": null,
   "metadata": {
    "id": "I2qkAzCFJg67"
   },
   "outputs": [],
   "source": [
    "prob = #write your answer"
   ]
  },
  {
   "cell_type": "code",
   "execution_count": null,
   "metadata": {
    "id": "JUYcZ6D8JjzH"
   },
   "outputs": [],
   "source": [
    "def grader13(prob, tol=1e-3):\n",
    "    return math.isclose(prob, 0.25, rel_tol=tol)\n",
    "\n",
    "grader13(prob)"
   ]
  },
  {
   "cell_type": "markdown",
   "metadata": {
    "id": "gQp0tHzzYKSH"
   },
   "source": [
    "![screenshot13](screenshot13.png)"
   ]
  },
  {
   "cell_type": "markdown",
   "metadata": {
    "id": "A1zFVXSyKJ3w"
   },
   "source": [
    "# Question 14: A biased coin has P(Heads)=0.6. If it is flipped 10 times, what is the probability of getting exactly 7 heads? Store the answer in variable prob2. Show screenshot\\\\photograph of your calculation"
   ]
  },
  {
   "cell_type": "code",
   "execution_count": 11,
   "metadata": {
    "id": "XYWyd1tVJr2g"
   },
   "outputs": [
    {
     "name": "stdout",
     "output_type": "stream",
     "text": [
      "0.21499084799999998\n"
     ]
    }
   ],
   "source": [
    "from math import comb\n",
    "n = 10\n",
    "k = 7\n",
    "p = 0.6\n",
    "prob2 = comb(n, k) * (p ** k) * ((1 - p) ** (n - k))\n",
    "print(prob2)\n"
   ]
  },
  {
   "cell_type": "code",
   "execution_count": 12,
   "metadata": {
    "id": "OlA6ffp0KUpI"
   },
   "outputs": [
    {
     "data": {
      "text/plain": [
       "False"
      ]
     },
     "execution_count": 12,
     "metadata": {},
     "output_type": "execute_result"
    }
   ],
   "source": [
    "def grader(prob2, tol=1e-3):\n",
    "    return math.isclose(prob2, 0.2013, rel_tol=tol)\n",
    "\n",
    "grader(prob2)"
   ]
  },
  {
   "cell_type": "markdown",
   "metadata": {
    "id": "4GbD8KRlYL7V"
   },
   "source": [
    "![screenshot14](screenshot14.png)"
   ]
  },
  {
   "cell_type": "markdown",
   "metadata": {
    "id": "Qdz0aKLPLJKF"
   },
   "source": [
    "# Question 15: Determine whether the vectors (2,4) and (1,2) are linearly independent. Store the boolean value in variable ans. Show screenshot\\\\photograph of your calculation"
   ]
  },
  {
   "cell_type": "code",
   "execution_count": null,
   "metadata": {
    "id": "Q6thhD7ULDq8"
   },
   "outputs": [],
   "source": [
    "ans = #write your answer(True/False)"
   ]
  },
  {
   "cell_type": "code",
   "execution_count": null,
   "metadata": {
    "id": "VjrEI2isLHgx"
   },
   "outputs": [],
   "source": [
    "def grader15(is_independent):\n",
    "    return is_independent == False\n",
    "grader(ans)"
   ]
  },
  {
   "cell_type": "markdown",
   "metadata": {
    "id": "jBVx5jelYNkq"
   },
   "source": [
    "![screenshot15](screenshot15.png)"
   ]
  },
  {
   "cell_type": "markdown",
   "metadata": {
    "id": "s9jVzJKJMr3t"
   },
   "source": [
    "# Question 16: Find the dot product of $a=(1,−2,3)$ and $b=(4,0,−1)$. Store your answer in dot_prod variable. Show screenshot\\\\photograph of your calculation"
   ]
  },
  {
   "cell_type": "code",
   "execution_count": null,
   "metadata": {
    "id": "kt5T-xbnMHF7"
   },
   "outputs": [],
   "source": [
    "dot_prod = #write your answer"
   ]
  },
  {
   "cell_type": "code",
   "execution_count": 13,
   "metadata": {
    "id": "lz8fgpbLNAaJ"
   },
   "outputs": [
    {
     "data": {
      "text/plain": [
       "False"
      ]
     },
     "execution_count": 13,
     "metadata": {},
     "output_type": "execute_result"
    }
   ],
   "source": [
    "def grader16(dot_product):\n",
    "    return dot_product == 4\n",
    "\n",
    "grader16(dot_prod)"
   ]
  },
  {
   "cell_type": "markdown",
   "metadata": {
    "id": "cQYXQVGVYPSX"
   },
   "source": [
    "![screenshot16](screenshot16.png)"
   ]
  },
  {
   "cell_type": "markdown",
   "metadata": {
    "id": "WALM0sGrObWr"
   },
   "source": [
    "# Question 17: In a deck of cards, there are 4 aces. What is the probability of drawing an ace or a heart from a deck of 52 cards? Store your answer in variable prob3. Show screenshot\\\\photograph of your calculation"
   ]
  },
  {
   "cell_type": "code",
   "execution_count": null,
   "metadata": {
    "id": "yrHy3czdOkMy"
   },
   "outputs": [],
   "source": [
    "prob3 = #write your answer"
   ]
  },
  {
   "cell_type": "code",
   "execution_count": null,
   "metadata": {
    "id": "ytYdE-ZYOn16"
   },
   "outputs": [],
   "source": [
    "def grader17(prob3):\n",
    "    return math.isclose(prob3,0.307692)\n",
    "\n",
    "grader17(prob3)"
   ]
  },
  {
   "cell_type": "markdown",
   "metadata": {
    "id": "PvT6nRJTYRPs"
   },
   "source": [
    "![screenshot17](screenshot17.png)"
   ]
  },
  {
   "cell_type": "markdown",
   "metadata": {
    "id": "Kvl8MMsSO2QF"
   },
   "source": [
    "# Question 18: Given the vector $v=\\{2,−3,z\\}$, find the value of z such that the vector $v$ is orthogonal to the vector $u=\\{1,4,5\\}$. Store the value in variable z. Show screenshot\\\\photograph of your calculation"
   ]
  },
  {
   "cell_type": "code",
   "execution_count": null,
   "metadata": {
    "id": "CGMzWkq6OwHd"
   },
   "outputs": [],
   "source": [
    "z = #write your answer"
   ]
  },
  {
   "cell_type": "code",
   "execution_count": null,
   "metadata": {
    "id": "_Yi8vNJTQkuI"
   },
   "outputs": [],
   "source": [
    "def grader_18(z_value):\n",
    "    return np.isclose(z_value, 2)\n",
    "grader_18(z)"
   ]
  },
  {
   "cell_type": "markdown",
   "metadata": {
    "id": "3V68xqhxYSxR"
   },
   "source": [
    "![screenshot18](C:\\Users\\Admin\\Desktop\\ICT_PRACTICE)"
   ]
  },
  {
   "cell_type": "markdown",
   "metadata": {
    "id": "oe9ewMpuRxfz"
   },
   "source": [
    "# Question 19: The probability that it will rain tomorrow is 0.3, and the probability that a person will carry an umbrella is 0.6. If the probability of both events happening (rain and umbrella) is 0.2, what is the probability that it will rain given that the person carries an umbrella? Store your answer in variable prob4. Show screenshot\\\\photograph of your calculation"
   ]
  },
  {
   "cell_type": "code",
   "execution_count": null,
   "metadata": {
    "id": "vEu77NX7R6jN"
   },
   "outputs": [],
   "source": [
    "prob4 = #write your answer"
   ]
  },
  {
   "cell_type": "code",
   "execution_count": null,
   "metadata": {
    "id": "-vgbTldJSCAU"
   },
   "outputs": [],
   "source": [
    "def grader19(prob4):\n",
    "    return math.isclose(prob4, 0.333)\n",
    "\n",
    "grader19(prob4)"
   ]
  },
  {
   "cell_type": "markdown",
   "metadata": {
    "id": "qWfs9WomYcXq"
   },
   "source": [
    "![screenshot19](screenshot19.png)"
   ]
  },
  {
   "cell_type": "markdown",
   "metadata": {
    "id": "6TKHumrkUJrV"
   },
   "source": [
    "# Question 20 : What are the eigen value of matrix $C$ =  \\begin{bmatrix} 2 & 0 \\\\ 0 & 3 \\end{bmatrix}. Store your answer in variables $e_1$ and $e_2$.\n",
    "# Show screenshot\\\\photograph of your calculation"
   ]
  },
  {
   "cell_type": "code",
   "execution_count": null,
   "metadata": {
    "id": "i8HMuUKcUMo3"
   },
   "outputs": [],
   "source": [
    "e1 = #write your answer\n",
    "e2 = #write your answer"
   ]
  },
  {
   "cell_type": "code",
   "execution_count": 10,
   "metadata": {
    "id": "-gmWKJ4HUmgj"
   },
   "outputs": [
    {
     "data": {
      "text/plain": [
       "True"
      ]
     },
     "execution_count": 10,
     "metadata": {},
     "output_type": "execute_result"
    }
   ],
   "source": [
    "def grader20(e1, e2):\n",
    "    if (e1 == 2 and e2 == 3) or \\\n",
    "       (e1 == 3 and e2 == 2):\n",
    "        return True\n",
    "    else:\n",
    "        return False\n",
    "grader20(2, 3)"
   ]
  },
  {
   "cell_type": "markdown",
   "metadata": {
    "id": "jjZQK2FNYfLs"
   },
   "source": [
    "![screenshot20](screenshot20.png)"
   ]
  },
  {
   "cell_type": "code",
   "execution_count": null,
   "metadata": {
    "id": "lbPCpOUGYgxy"
   },
   "outputs": [],
   "source": []
  }
 ],
 "metadata": {
  "colab": {
   "provenance": []
  },
  "kernelspec": {
   "display_name": "Python 3 (ipykernel)",
   "language": "python",
   "name": "python3"
  },
  "language_info": {
   "codemirror_mode": {
    "name": "ipython",
    "version": 3
   },
   "file_extension": ".py",
   "mimetype": "text/x-python",
   "name": "python",
   "nbconvert_exporter": "python",
   "pygments_lexer": "ipython3",
   "version": "3.12.2"
  }
 },
 "nbformat": 4,
 "nbformat_minor": 4
}
